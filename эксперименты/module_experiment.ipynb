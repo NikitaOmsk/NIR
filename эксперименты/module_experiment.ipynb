{
 "cells": [
  {
   "cell_type": "code",
   "execution_count": 17,
   "metadata": {},
   "outputs": [],
   "source": [
    "import numpy as np\n",
    "import math\n",
    "import scipy.special as scspec\n",
    "from method_runner import FirstOrderAlgorithmRunner\n",
    "import matplotlib.pyplot as plt\n",
    "%matplotlib inline"
   ]
  },
  {
   "cell_type": "code",
   "execution_count": 2,
   "metadata": {},
   "outputs": [],
   "source": [
    "def logistic_func(w, X, y, C=1.0):\n",
    "    '''\n",
    "        logistic(w, X, y) вычисляет функцию качества лог регрессии L(w, X, y)\n",
    "        \n",
    "        w: np.array размера (M,)\n",
    "        X: np.array размера (N, M)\n",
    "        y: np.array размера (N,)\n",
    "        C: positive float, default: 1.0\n",
    "        \n",
    "        funcw: np.float \n",
    "    '''\n",
    "    return np.logaddexp(0, -y * (X @ w)).sum() + C * w @ w / 2.0"
   ]
  },
  {
   "cell_type": "code",
   "execution_count": 3,
   "metadata": {},
   "outputs": [],
   "source": [
    "def logistic_grad(w, X, y, C=1.0):\n",
    "    '''\n",
    "        logistic_grad(w, X, y) вычисляет градиент функции качества лог регрессии dL(w, X, y)/dw\n",
    "        \n",
    "        w: np.array размера (M,)\n",
    "        X: np.array размера (N, M)\n",
    "        y: np.array размера (N,)\n",
    "        C: positive float, default: 1.0\n",
    "        \n",
    "        gradw: np.array размера (M,)\n",
    "    '''\n",
    "    return w * C - (X.T * y * scspec.expit(-y * (X @ w))).sum(axis=1)"
   ]
  },
  {
   "cell_type": "code",
   "execution_count": 4,
   "metadata": {},
   "outputs": [],
   "source": [
    "def grad_simple(x0, func, grad, verbose=True, max_iter=20, eps=0.01):    \n",
    "    x, xvals, fvals, ngrads = x0.copy().astype(np.float), [], [], []\n",
    "    xvals.append(x)\n",
    "    grad_count, func_count = 0, 0\n",
    "    for iter in range(max_iter):\n",
    "        fvalx, gradx = func(x), grad(x)\n",
    "        grad_count += 1\n",
    "        func_count += 1\n",
    "        alpha = 1 / np.sqrt(iter + 1)\n",
    "        x = x - alpha * gradx\n",
    "        xvals.append(x)\n",
    "        fvals.append(fvalx)\n",
    "        ngrads.append(np.linalg.norm(gradx))\n",
    "        if ngrads[-1] < eps:\n",
    "            break\n",
    "    return {'points': xvals, \n",
    "            'grad_seq': ngrads, \n",
    "            'func_seq': fvals, \n",
    "            'grad_count': grad_count, \n",
    "            'func_count': func_count}"
   ]
  },
  {
   "cell_type": "code",
   "execution_count": 5,
   "metadata": {},
   "outputs": [],
   "source": [
    "def ogmg(x0, func, grad, verbose=True, L=1, mu=1):\n",
    "    N = math.ceil(math.sqrt(8 * L / mu))\n",
    "    theta = np.ones(N + 1)\n",
    "    for i in range(N - 1, 0, -1):\n",
    "        theta[i] = (1 + math.sqrt(1 + 4 * theta[i+1] * theta[i+1]))/2\n",
    "    theta[0] = (1 + math.sqrt(1 + 8 * theta[1] * theta[1]))/2\n",
    "    x, xvals, fvals, ngrads = x0.copy().astype(np.float), [], [], []\n",
    "    xvals.append(x)\n",
    "    y = x\n",
    "    grad_count, func_count = 0, 0\n",
    "    for i in range(N):\n",
    "        fvalx, gradx = func(x), grad(x)\n",
    "        grad_count += 1\n",
    "        func_count += 1\n",
    "        fvals.append(fvalx)\n",
    "        ngrads.append(np.linalg.norm(gradx))\n",
    "        y_new = x - gradx / L\n",
    "        beta = (theta[i] - 1) * (2 * theta[i + 1] - 1) / theta[i] / (2 * theta[i] - 1)\n",
    "        gamma = (2 * theta[i + 1] - 1) / (2 * theta[i] - 1)\n",
    "        x = y_new + beta * (y_new - y) + gamma * (y_new - x)\n",
    "        xvals.append(x)\n",
    "        y = y_new\n",
    "    fvalx, gradx = func(x), grad(x)\n",
    "    fvals.append(fvalx)\n",
    "    ngrads.append(np.linalg.norm(gradx))\n",
    "    return {'points': xvals, \n",
    "            'grad_seq': ngrads, \n",
    "            'func_seq': fvals, \n",
    "            'grad_count': grad_count, \n",
    "            'func_count': func_count}"
   ]
  },
  {
   "cell_type": "code",
   "execution_count": 6,
   "metadata": {},
   "outputs": [],
   "source": [
    "def ogmg_repeat(x0, func, grad, verbose=True, L=1, mu=1, eps=0.01):\n",
    "    N = math.ceil(math.sqrt(8 * L / mu))\n",
    "    theta = np.ones(N + 1)\n",
    "    for i in range(N - 1, 0, -1):\n",
    "        theta[i] = (1 + math.sqrt(1 + 4 * theta[i+1] * theta[i+1]))/2\n",
    "    theta[0] = (1 + math.sqrt(1 + 8 * theta[1] * theta[1]))/2\n",
    "    x, xvals, fvals, ngrads = x0.copy().astype(np.float), [], [], []\n",
    "    xvals.append(x)\n",
    "    y = x\n",
    "    grad_count, func_count = 0, 0\n",
    "    while True:\n",
    "        fvalx, gradx = func(x), grad(x)\n",
    "        grad_count += 1\n",
    "        func_count += 1\n",
    "        fvals.append(fvalx)\n",
    "        ngrads.append(np.linalg.norm(gradx))\n",
    "        if ngrads[-1] <= eps:\n",
    "            break\n",
    "        for i in range(N):            \n",
    "            y_new = x - gradx / L\n",
    "            beta = (theta[i] - 1) * (2 * theta[i + 1] - 1) / theta[i] / (2 * theta[i] - 1)\n",
    "            gamma = (2 * theta[i + 1] - 1) / (2 * theta[i] - 1)\n",
    "            x = y_new + beta * (y_new - y) + gamma * (y_new - x)\n",
    "            xvals.append(x)\n",
    "            y = y_new\n",
    "            if i != N-1:\n",
    "                fvalx, gradx = func(x), grad(x)\n",
    "                fvals.append(fvalx)\n",
    "                ngrads.append(np.linalg.norm(gradx))\n",
    "                grad_count += 1\n",
    "                func_count += 1\n",
    "    return {'points': xvals, \n",
    "            'grad_seq': ngrads, \n",
    "            'func_seq': fvals, \n",
    "            'grad_count': grad_count, \n",
    "            'func_count': func_count}"
   ]
  },
  {
   "cell_type": "code",
   "execution_count": 7,
   "metadata": {},
   "outputs": [],
   "source": [
    "def acgm(x0, func, grad, verbose=True, L=1, mu=1, eps=0.01, beta=4):\n",
    "    x, xvals, fvals, ngrads = x0.copy().astype(np.float), [], [], []\n",
    "    xvals.append(x)\n",
    "    grad_count, func_count = 0, 0\n",
    "    change = True\n",
    "    while True:\n",
    "        fvalx, gradx = func(x), grad(x)\n",
    "        ngx = np.linalg.norm(gradx)\n",
    "        if ngx <= eps:\n",
    "            break\n",
    "        if change:\n",
    "            mu *= beta\n",
    "        else:\n",
    "            change = True\n",
    "        ogmg_res = ogmg(x, func, grad, verbose, L, mu)\n",
    "        xvals += ogmg_res['points']\n",
    "        fvals += ogmg_res['func_seq']\n",
    "        ngrads += ogmg_res['grad_seq']\n",
    "        grad_count += ogmg_res['grad_count']\n",
    "        func_count += ogmg_res['func_count']\n",
    "        if ngrads[-1] <= 0.5 * ngx:\n",
    "            x = xvals[-1]\n",
    "        elif ngrads[-1] <= ngx:\n",
    "            x = xvals[-1]\n",
    "            mu /= beta\n",
    "            change = False\n",
    "        else:\n",
    "            mu /= beta\n",
    "            change = False\n",
    "    return {'points': xvals, \n",
    "            'grad_seq': ngrads, \n",
    "            'func_seq': fvals, \n",
    "            'grad_count': grad_count, \n",
    "            'func_count': func_count}"
   ]
  },
  {
   "cell_type": "code",
   "execution_count": 202,
   "metadata": {},
   "outputs": [],
   "source": [
    "def ugm(x0, func, grad, verbose=True, L=1, eps=0.01):\n",
    "    x, xvals, fvals, ngrads = x0.copy().astype(np.float), [], [], []\n",
    "    xvals.append(x)\n",
    "    grad_count, func_count = 0, 0\n",
    "    change = True\n",
    "    while True:\n",
    "        fvalx, gradx = func(x), grad(x)\n",
    "        grad_count += 1\n",
    "        func_count += 1\n",
    "        fvals.append(fvalx)\n",
    "        ngx = np.linalg.norm(gradx)\n",
    "        ngrads.append(ngx)\n",
    "        if ngx <= eps:\n",
    "            break\n",
    "        if change:\n",
    "            L /= 2\n",
    "        else:\n",
    "            change = True\n",
    "        x_new = x - gradx / L \n",
    "        f_new = func(x_new)\n",
    "        xvals.append(x_new)\n",
    "        fvals.append(f_new)\n",
    "        ngrads.append(np.linalg.norm(x_new))\n",
    "        grad_count += 1\n",
    "        func_count += 1\n",
    "        if f_new <= fvalx - ngx**2 / L / 2 + eps/2/4:\n",
    "            x = x_new\n",
    "            continue\n",
    "        else:\n",
    "            if f_new <= fvalx:\n",
    "                x = x_new\n",
    "            L *= 2\n",
    "            change = False\n",
    "    return {'points': xvals, \n",
    "            'grad_seq': ngrads, \n",
    "            'func_seq': fvals, \n",
    "            'grad_count': grad_count, \n",
    "            'func_count': func_count}"
   ]
  },
  {
   "cell_type": "code",
   "execution_count": 329,
   "metadata": {},
   "outputs": [],
   "source": [
    "def ogmg_l(x0, func, grad, verbose=True, L=1, mu=1, eps=0.01):\n",
    "    N = math.ceil(math.sqrt(8 * L / mu))\n",
    "    theta = np.ones(N + 1)\n",
    "    for i in range(N - 1, 0, -1):\n",
    "        theta[i] = (1 + math.sqrt(1 + 4 * theta[i+1] * theta[i+1]))/2\n",
    "    theta[0] = (1 + math.sqrt(1 + 8 * theta[1] * theta[1]))/2\n",
    "    x, xvals, fvals, ngrads = x0.copy().astype(np.float), [], [], []\n",
    "    xvals.append(x)\n",
    "    y = x\n",
    "    grad_count, func_count = 0, 0\n",
    "    L /= 2\n",
    "    while True:\n",
    "        for i in range(N):\n",
    "            fvalx, gradx = func(x), grad(x)\n",
    "            grad_count += 1\n",
    "            func_count += 1\n",
    "            fvals.append(fvalx)\n",
    "            ngx = np.linalg.norm(gradx)\n",
    "            ngrads.append(ngx)\n",
    "            y_new = x - gradx / L\n",
    "            func_count += 1\n",
    "            if func(y_new) > fvalx - ngx**2 / L / 2 + eps / 2:\n",
    "                L *= 2\n",
    "                mu *= 2\n",
    "                break\n",
    "            beta = (theta[i] - 1) * (2 * theta[i + 1] - 1) / theta[i] / (2 * theta[i] - 1)\n",
    "            gamma = (2 * theta[i + 1] - 1) / (2 * theta[i] - 1)\n",
    "            x = y_new + beta * (y_new - y) + gamma * (y_new - x)\n",
    "            xvals.append(x)\n",
    "            y = y_new\n",
    "        else:\n",
    "            break\n",
    "    fvalx, gradx = func(x), grad(x)\n",
    "    fvals.append(fvalx)\n",
    "    ngrads.append(np.linalg.norm(gradx))\n",
    "    return {'points': xvals, \n",
    "            'grad_seq': ngrads, \n",
    "            'func_seq': fvals, \n",
    "            'grad_count': grad_count, \n",
    "            'func_count': func_count,\n",
    "            'new_parameters': (L, mu)}"
   ]
  },
  {
   "cell_type": "code",
   "execution_count": 330,
   "metadata": {},
   "outputs": [],
   "source": [
    "def algm(x0, func, grad, verbose=True, L=1, mu=1, eps=0.01, beta=4):\n",
    "    x, xvals, fvals, ngrads = x0.copy().astype(np.float), [], [], []\n",
    "    xvals.append(x)\n",
    "    grad_count, func_count = 0, 0\n",
    "    change = True\n",
    "    while True:\n",
    "        fvalx, gradx = func(x), grad(x)\n",
    "        ngx = np.linalg.norm(gradx)\n",
    "        if ngx <= eps:\n",
    "            break\n",
    "        if change:\n",
    "            mu *= beta\n",
    "        else:\n",
    "            change = True\n",
    "        ogmg_res = ogmg_l(x, func, grad, verbose, L, mu, eps)\n",
    "        L, mu = ogmg_res['new_parameters']\n",
    "        xvals += ogmg_res['points']\n",
    "        fvals += ogmg_res['func_seq']\n",
    "        ngrads += ogmg_res['grad_seq']\n",
    "        grad_count += ogmg_res['grad_count']\n",
    "        func_count += ogmg_res['func_count']\n",
    "        if ngrads[-1] <= 0.5 * ngx:\n",
    "            x = xvals[-1]\n",
    "        elif ngrads[-1] <= ngx:\n",
    "            x = xvals[-1]\n",
    "            mu /= beta\n",
    "            change = False\n",
    "        else:\n",
    "            mu /= beta\n",
    "            change = False\n",
    "    return {'points': xvals, \n",
    "            'grad_seq': ngrads, \n",
    "            'func_seq': fvals, \n",
    "            'grad_count': grad_count, \n",
    "            'func_count': func_count}"
   ]
  },
  {
   "cell_type": "code",
   "execution_count": 486,
   "metadata": {},
   "outputs": [],
   "source": [
    "w, X, y = np.random.random(100), np.random.random((110, 100)), 2*(np.random.randint(0, 2, 110)-0.5)\n",
    "func = lambda w: logistic_func(w, X, y)\n",
    "grad = lambda w: logistic_grad(w, X, y)"
   ]
  },
  {
   "cell_type": "code",
   "execution_count": 475,
   "metadata": {},
   "outputs": [],
   "source": [
    "w = np.random.random(2)\n",
    "func = lambda w: ((w**2)*np.array([L, mu])).sum()/2\n",
    "grad = lambda w: np.array([L*w[0], mu*w[1]])"
   ]
  },
  {
   "cell_type": "code",
   "execution_count": 487,
   "metadata": {},
   "outputs": [],
   "source": [
    "algrun = FirstOrderAlgorithmRunner()\n",
    "eps = 0.0000000001"
   ]
  },
  {
   "cell_type": "code",
   "execution_count": 488,
   "metadata": {},
   "outputs": [],
   "source": [
    "L = 100000\n",
    "mu = 0.1"
   ]
  },
  {
   "cell_type": "code",
   "execution_count": 489,
   "metadata": {},
   "outputs": [],
   "source": [
    "algrun.run_method('algm', algm, w, func, grad, L=1, mu=1, eps=eps)\n",
    "algrun.run_method('acgm', acgm, w, func, grad, L=100000, mu=1, eps=eps)"
   ]
  },
  {
   "cell_type": "code",
   "execution_count": 490,
   "metadata": {},
   "outputs": [
    {
     "data": {
      "image/png": "[encoded data removed]",
      "text/plain": [
       "<Figure size 432x288 with 1 Axes>"
      ]
     },
     "metadata": {
      "needs_background": "light"
     },
     "output_type": "display_data"
    }
   ],
   "source": [
    "algrun.plot_grads('Logistic regression', log=True)\n",
    "plt.savefig(\"algm_acgm1.eps\")"
   ]
  },
  {
   "cell_type": "code",
   "execution_count": 371,
   "metadata": {},
   "outputs": [
    {
     "data": {
      "image/png": "[encoded data removed]",
      "text/plain": [
       "<Figure size 432x288 with 1 Axes>"
      ]
     },
     "metadata": {
      "needs_background": "light"
     },
     "output_type": "display_data"
    }
   ],
   "source": [
    "algrun.plot_points('Logistic regression')#, log=True)"
   ]
  },
  {
   "cell_type": "code",
   "execution_count": 243,
   "metadata": {},
   "outputs": [],
   "source": [
    "algrun.run_method('acgm', acgm, w, func, grad, L=L, mu=L, eps=eps)"
   ]
  },
  {
   "cell_type": "code",
   "execution_count": 175,
   "metadata": {},
   "outputs": [
    {
     "data": {
      "image/png": "[encoded data removed]",
      "text/plain": [
       "<Figure size 432x288 with 1 Axes>"
      ]
     },
     "metadata": {
      "needs_background": "light"
     },
     "output_type": "display_data"
    }
   ],
   "source": [
    "xs=[1/np.sqrt(x) for x in [0.1,0.3,1,10,100,1000]]\n",
    "ys=[78835,48091,29180,9682,3349,1201]\n",
    "plt.title('Count calls on \\mu')\n",
    "plt.plot(xs,ys)\n",
    "plt.scatter(x=xs,y=ys)\n",
    "plt.xlabel(r'$1/\\sqrt{\\mu}$')\n",
    "plt.ylabel('calls of gradient')\n",
    "plt.savefig('acgm_r.eps')"
   ]
  }
 ],
 "metadata": {
  "kernelspec": {
   "display_name": "Python 3",
   "language": "python",
   "name": "python3"
  },
  "language_info": {
   "codemirror_mode": {
    "name": "ipython",
    "version": 3
   },
   "file_extension": ".py",
   "mimetype": "text/x-python",
   "name": "python",
   "nbconvert_exporter": "python",
   "pygments_lexer": "ipython3",
   "version": "3.7.3"
  }
 },
 "nbformat": 4,
 "nbformat_minor": 2
}
