{
 "cells": [
  {
   "cell_type": "code",
   "execution_count": 1,
   "metadata": {},
   "outputs": [],
   "source": [
    "import numpy as np\n",
    "import math"
   ]
  },
  {
   "cell_type": "code",
   "execution_count": 2,
   "metadata": {},
   "outputs": [],
   "source": [
    "def norm(x):\n",
    "    return np.sqrt(np.sum(x**2))\n",
    "\n",
    "def dist(x, y):\n",
    "    return norm(x-y)"
   ]
  },
  {
   "cell_type": "code",
   "execution_count": 3,
   "metadata": {},
   "outputs": [],
   "source": [
    "def Nesterov(x):\n",
    "    n = len(x)\n",
    "    f = (x[0]-1)**2/4\n",
    "    for i in range(1,n):\n",
    "        f += (x[i] - 2*x[i-1]**2 + 1)**2\n",
    "    return f\n",
    "\n",
    "def grad_Nesterov(x):\n",
    "    n = len(x)\n",
    "    g = np.zeros(n)\n",
    "    g[0] = (x[0]-1)/2 - 8*x[0]*(x[1] - 2*x[0]**2 + 1)\n",
    "    for i in range(1,n-1):\n",
    "        g[i] = 2*(x[i] - 2*x[i-1]**2 + 1) - 8*x[i]*(x[i+1] - 2*x[i]**2 + 1)\n",
    "    g[n-1] = 2*(x[n-1] - 2*x[n-2]**2 + 1)\n",
    "    return g"
   ]
  },
  {
   "cell_type": "code",
   "execution_count": 69,
   "metadata": {},
   "outputs": [
    {
     "name": "stdout",
     "output_type": "stream",
     "text": [
      "[  -8.   66.  304.  806. 1668. 2986. 4856. 7374. -236.]\n",
      "[  -8.     66.01  304.02  806.04 1668.06 2986.08 4856.11 7374.15 -236.  ]\n"
     ]
    }
   ],
   "source": [
    "x = np.arange(1,10)\n",
    "h = 0.0001\n",
    "print(grad_Nesterov(x))\n",
    "gr = np.zeros(len(x))\n",
    "for i in range(0, len(x)):\n",
    "    ni = np.zeros(len(x))\n",
    "    ni[i] = h\n",
    "    gr[i] = (Nesterov(x+ni) - Nesterov(x))/h\n",
    "print(gr)"
   ]
  },
  {
   "cell_type": "code",
   "execution_count": 4,
   "metadata": {},
   "outputs": [],
   "source": [
    "def OGMG(x0, L, N, f, g):\n",
    "    Theta = np.ones(N+1)\n",
    "    for i in range(N-1,0,-1):\n",
    "        Theta[i] = (1+np.sqrt(1+4*Theta[i+1]**2))/2\n",
    "    Theta[0] = (1+np.sqrt(1+8*Theta[1]**2))/2\n",
    "    \n",
    "    beta = np.zeros(N)\n",
    "    gamma = np.zeros(N)\n",
    "    \n",
    "    x = np.zeros((N+1, len(x0)))\n",
    "    y = np.zeros((N+1, len(x0)))\n",
    "    \n",
    "    x[0] = x0\n",
    "    y[0] = x0\n",
    "    \n",
    "    for i in range(0,N):\n",
    "        gamma[i] = (2*Theta[i+1]-1)/(2*Theta[i]-1)\n",
    "        beta[i] = gamma[i]*(Theta[i]-1)/Theta[i]\n",
    "        y[i+1] = x[i] - g(x[i])/L\n",
    "        x[i+1] = y[i+1] + beta[i]*(y[i+1]-y[i]) + gamma[i]*(y[i+1]-x[i])\n",
    "    \n",
    "    return x[-1]"
   ]
  },
  {
   "cell_type": "code",
   "execution_count": 74,
   "metadata": {},
   "outputs": [
    {
     "data": {
      "text/plain": [
       "array([-5.00e-01,  7.00e+01,  3.04e+02,  8.06e+02,  1.67e+03,  2.99e+03,\n",
       "        4.86e+03,  7.37e+03, -2.36e+02])"
      ]
     },
     "execution_count": 74,
     "metadata": {},
     "output_type": "execute_result"
    }
   ],
   "source": [
    "xx = -0.5*np.ones(55)\n",
    "x[0] = 0.5\n",
    "grad_Nesterov(x)"
   ]
  },
  {
   "cell_type": "code",
   "execution_count": 5,
   "metadata": {},
   "outputs": [
    {
     "name": "stderr",
     "output_type": "stream",
     "text": [
      "C:\\Users\\Lenovo\\Anaconda3\\lib\\site-packages\\ipykernel_launcher.py:19: RuntimeWarning: overflow encountered in true_divide\n",
      "C:\\Users\\Lenovo\\Anaconda3\\lib\\site-packages\\ipykernel_launcher.py:19: RuntimeWarning: invalid value encountered in subtract\n",
      "C:\\Users\\Lenovo\\Anaconda3\\lib\\site-packages\\ipykernel_launcher.py:20: RuntimeWarning: overflow encountered in add\n"
     ]
    }
   ],
   "source": [
    "n = 1000\n",
    "x0 = np.ones(n)\n",
    "x_ = np.zeros(n)\n",
    "Ls = [0.5, 0.9, 1, 1.1, 1.5, 2, 10, 20]\n",
    "Ns = [int(n/10), int(n/2), n, n*5, n*20]\n",
    "results = []\n",
    "for L in Ls:\n",
    "    L_results = []\n",
    "    for N in Ns:\n",
    "        traect = OGMG(x0, L, N, lambda x: np.sum(x**2)/2, lambda x: x)\n",
    "        dists = []\n",
    "        for x in traect:\n",
    "            dists.append(dist(x, x_))\n",
    "        L_results.append((N, dists))\n",
    "    results.append(L_results)"
   ]
  },
  {
   "cell_type": "code",
   "execution_count": 6,
   "metadata": {},
   "outputs": [],
   "source": [
    "A = np.diag(np.arange(1,11)**3)"
   ]
  },
  {
   "cell_type": "code",
   "execution_count": 7,
   "metadata": {},
   "outputs": [],
   "source": [
    "def f(x):\n",
    "    return np.dot(x, np.dot(A, x))/2\n",
    "\n",
    "def g(x):\n",
    "    return np.dot(A, x)"
   ]
  },
  {
   "cell_type": "code",
   "execution_count": 45,
   "metadata": {},
   "outputs": [
    {
     "name": "stdout",
     "output_type": "stream",
     "text": [
      "12951.11319539753\n",
      "712.8167549103867\n",
      "[ 9.05e-01  8.07e-01 -2.51e-01 -2.75e-02  3.95e-02 -4.44e-03 -4.84e-03\n",
      " -1.48e-04  2.22e-06 -7.13e-01]\n"
     ]
    }
   ],
   "source": [
    "n = 10\n",
    "x0 = np.arange(1,n+1)\n",
    "x_ = np.zeros(n)\n",
    "L = 1000\n",
    "mu = 30\n",
    "\n",
    "x = OGMG(x0, L, math.ceil(2*np.sqrt(2*L/mu)), f, g)\n",
    "print(dist(g(x0), 0))\n",
    "print(dist(g(x), 0))\n",
    "print(x)"
   ]
  },
  {
   "cell_type": "code",
   "execution_count": 46,
   "metadata": {},
   "outputs": [],
   "source": [
    "def OGMG_count(x0, L, mu, g, eps):\n",
    "    x = x0\n",
    "    G = norm(g(x))\n",
    "    Nop = 0\n",
    "    while G > eps:\n",
    "        N = math.ceil(2*np.sqrt(2*L/mu))\n",
    "        x_new = OGMG(x, L, N, f, g)\n",
    "        Nop += N\n",
    "        x = x_new\n",
    "        G = norm(g(x))\n",
    "    return Nop, x"
   ]
  },
  {
   "cell_type": "code",
   "execution_count": 47,
   "metadata": {},
   "outputs": [],
   "source": [
    "def OGMG_adapt(x0, L, mu, g, eps):\n",
    "    x = x0\n",
    "    G = norm(g(x))\n",
    "    Nop = 0\n",
    "    CH = True\n",
    "    while G > eps:\n",
    "        if CH:\n",
    "            mu *= 2\n",
    "        else:\n",
    "            CH = True\n",
    "        N = math.ceil(2*np.sqrt(2*L/mu))\n",
    "        x_new = OGMG(x, L, N, f, g)\n",
    "        Nop += N\n",
    "        if norm(g(x_new)) <= G*0.5:\n",
    "            x = x_new\n",
    "            G = norm(g(x))\n",
    "        elif norm(g(x_new)) <= G:\n",
    "            x = x_new\n",
    "            G = norm(g(x))\n",
    "            mu /= 2\n",
    "            CH = False\n",
    "        else:\n",
    "            mu /= 2\n",
    "            CH = False\n",
    "    return Nop, x"
   ]
  },
  {
   "cell_type": "code",
   "execution_count": 79,
   "metadata": {},
   "outputs": [
    {
     "ename": "KeyboardInterrupt",
     "evalue": "",
     "output_type": "error",
     "traceback": [
      "\u001b[1;31m---------------------------------------------------------------------------\u001b[0m",
      "\u001b[1;31mKeyboardInterrupt\u001b[0m                         Traceback (most recent call last)",
      "\u001b[1;32m<ipython-input-79-828bc80f4f06>\u001b[0m in \u001b[0;36m<module>\u001b[1;34m()\u001b[0m\n\u001b[1;32m----> 1\u001b[1;33m \u001b[0my\u001b[0m \u001b[1;33m=\u001b[0m \u001b[0mOGMG_count\u001b[0m\u001b[1;33m(\u001b[0m\u001b[0mnp\u001b[0m\u001b[1;33m.\u001b[0m\u001b[0mzeros\u001b[0m\u001b[1;33m(\u001b[0m\u001b[1;36m15\u001b[0m\u001b[1;33m)\u001b[0m\u001b[1;33m,\u001b[0m \u001b[0mL\u001b[0m\u001b[1;33m,\u001b[0m \u001b[0mmu\u001b[0m\u001b[1;33m*\u001b[0m\u001b[1;36m10000\u001b[0m\u001b[1;33m,\u001b[0m \u001b[0mgrad_Nesterov\u001b[0m\u001b[1;33m,\u001b[0m \u001b[1;36m0.00001\u001b[0m\u001b[1;33m)\u001b[0m\u001b[1;33m\u001b[0m\u001b[0m\n\u001b[0m\u001b[0;32m      2\u001b[0m \u001b[0mprint\u001b[0m\u001b[1;33m(\u001b[0m\u001b[0my\u001b[0m\u001b[1;33m)\u001b[0m\u001b[1;33m\u001b[0m\u001b[0m\n\u001b[0;32m      3\u001b[0m \u001b[0mprint\u001b[0m\u001b[1;33m(\u001b[0m\u001b[0mnorm\u001b[0m\u001b[1;33m(\u001b[0m\u001b[0mgrad_Nesterov\u001b[0m\u001b[1;33m(\u001b[0m\u001b[0my\u001b[0m\u001b[1;33m[\u001b[0m\u001b[1;36m1\u001b[0m\u001b[1;33m]\u001b[0m\u001b[1;33m)\u001b[0m\u001b[1;33m)\u001b[0m\u001b[1;33m)\u001b[0m\u001b[1;33m\u001b[0m\u001b[0m\n",
      "\u001b[1;32m<ipython-input-46-2e7596c1886a>\u001b[0m in \u001b[0;36mOGMG_count\u001b[1;34m(x0, L, mu, g, eps)\u001b[0m\n\u001b[0;32m      5\u001b[0m     \u001b[1;32mwhile\u001b[0m \u001b[0mG\u001b[0m \u001b[1;33m>\u001b[0m \u001b[0meps\u001b[0m\u001b[1;33m:\u001b[0m\u001b[1;33m\u001b[0m\u001b[0m\n\u001b[0;32m      6\u001b[0m         \u001b[0mN\u001b[0m \u001b[1;33m=\u001b[0m \u001b[0mmath\u001b[0m\u001b[1;33m.\u001b[0m\u001b[0mceil\u001b[0m\u001b[1;33m(\u001b[0m\u001b[1;36m2\u001b[0m\u001b[1;33m*\u001b[0m\u001b[0mnp\u001b[0m\u001b[1;33m.\u001b[0m\u001b[0msqrt\u001b[0m\u001b[1;33m(\u001b[0m\u001b[1;36m2\u001b[0m\u001b[1;33m*\u001b[0m\u001b[0mL\u001b[0m\u001b[1;33m/\u001b[0m\u001b[0mmu\u001b[0m\u001b[1;33m)\u001b[0m\u001b[1;33m)\u001b[0m\u001b[1;33m\u001b[0m\u001b[0m\n\u001b[1;32m----> 7\u001b[1;33m         \u001b[0mx_new\u001b[0m \u001b[1;33m=\u001b[0m \u001b[0mOGMG\u001b[0m\u001b[1;33m(\u001b[0m\u001b[0mx\u001b[0m\u001b[1;33m,\u001b[0m \u001b[0mL\u001b[0m\u001b[1;33m,\u001b[0m \u001b[0mN\u001b[0m\u001b[1;33m,\u001b[0m \u001b[0mf\u001b[0m\u001b[1;33m,\u001b[0m \u001b[0mg\u001b[0m\u001b[1;33m)\u001b[0m\u001b[1;33m\u001b[0m\u001b[0m\n\u001b[0m\u001b[0;32m      8\u001b[0m         \u001b[0mNop\u001b[0m \u001b[1;33m+=\u001b[0m \u001b[0mN\u001b[0m\u001b[1;33m\u001b[0m\u001b[0m\n\u001b[0;32m      9\u001b[0m         \u001b[0mx\u001b[0m \u001b[1;33m=\u001b[0m \u001b[0mx_new\u001b[0m\u001b[1;33m\u001b[0m\u001b[0m\n",
      "\u001b[1;32m<ipython-input-4-0992fe32cea9>\u001b[0m in \u001b[0;36mOGMG\u001b[1;34m(x0, L, N, f, g)\u001b[0m\n\u001b[0;32m     18\u001b[0m         \u001b[0mbeta\u001b[0m\u001b[1;33m[\u001b[0m\u001b[0mi\u001b[0m\u001b[1;33m]\u001b[0m \u001b[1;33m=\u001b[0m \u001b[0mgamma\u001b[0m\u001b[1;33m[\u001b[0m\u001b[0mi\u001b[0m\u001b[1;33m]\u001b[0m\u001b[1;33m*\u001b[0m\u001b[1;33m(\u001b[0m\u001b[0mTheta\u001b[0m\u001b[1;33m[\u001b[0m\u001b[0mi\u001b[0m\u001b[1;33m]\u001b[0m\u001b[1;33m-\u001b[0m\u001b[1;36m1\u001b[0m\u001b[1;33m)\u001b[0m\u001b[1;33m/\u001b[0m\u001b[0mTheta\u001b[0m\u001b[1;33m[\u001b[0m\u001b[0mi\u001b[0m\u001b[1;33m]\u001b[0m\u001b[1;33m\u001b[0m\u001b[0m\n\u001b[0;32m     19\u001b[0m         \u001b[0my\u001b[0m\u001b[1;33m[\u001b[0m\u001b[0mi\u001b[0m\u001b[1;33m+\u001b[0m\u001b[1;36m1\u001b[0m\u001b[1;33m]\u001b[0m \u001b[1;33m=\u001b[0m \u001b[0mx\u001b[0m\u001b[1;33m[\u001b[0m\u001b[0mi\u001b[0m\u001b[1;33m]\u001b[0m \u001b[1;33m-\u001b[0m \u001b[0mg\u001b[0m\u001b[1;33m(\u001b[0m\u001b[0mx\u001b[0m\u001b[1;33m[\u001b[0m\u001b[0mi\u001b[0m\u001b[1;33m]\u001b[0m\u001b[1;33m)\u001b[0m\u001b[1;33m/\u001b[0m\u001b[0mL\u001b[0m\u001b[1;33m\u001b[0m\u001b[0m\n\u001b[1;32m---> 20\u001b[1;33m         \u001b[0mx\u001b[0m\u001b[1;33m[\u001b[0m\u001b[0mi\u001b[0m\u001b[1;33m+\u001b[0m\u001b[1;36m1\u001b[0m\u001b[1;33m]\u001b[0m \u001b[1;33m=\u001b[0m \u001b[0my\u001b[0m\u001b[1;33m[\u001b[0m\u001b[0mi\u001b[0m\u001b[1;33m+\u001b[0m\u001b[1;36m1\u001b[0m\u001b[1;33m]\u001b[0m \u001b[1;33m+\u001b[0m \u001b[0mbeta\u001b[0m\u001b[1;33m[\u001b[0m\u001b[0mi\u001b[0m\u001b[1;33m]\u001b[0m\u001b[1;33m*\u001b[0m\u001b[1;33m(\u001b[0m\u001b[0my\u001b[0m\u001b[1;33m[\u001b[0m\u001b[0mi\u001b[0m\u001b[1;33m+\u001b[0m\u001b[1;36m1\u001b[0m\u001b[1;33m]\u001b[0m\u001b[1;33m-\u001b[0m\u001b[0my\u001b[0m\u001b[1;33m[\u001b[0m\u001b[0mi\u001b[0m\u001b[1;33m]\u001b[0m\u001b[1;33m)\u001b[0m \u001b[1;33m+\u001b[0m \u001b[0mgamma\u001b[0m\u001b[1;33m[\u001b[0m\u001b[0mi\u001b[0m\u001b[1;33m]\u001b[0m\u001b[1;33m*\u001b[0m\u001b[1;33m(\u001b[0m\u001b[0my\u001b[0m\u001b[1;33m[\u001b[0m\u001b[0mi\u001b[0m\u001b[1;33m+\u001b[0m\u001b[1;36m1\u001b[0m\u001b[1;33m]\u001b[0m\u001b[1;33m-\u001b[0m\u001b[0mx\u001b[0m\u001b[1;33m[\u001b[0m\u001b[0mi\u001b[0m\u001b[1;33m]\u001b[0m\u001b[1;33m)\u001b[0m\u001b[1;33m\u001b[0m\u001b[0m\n\u001b[0m\u001b[0;32m     21\u001b[0m \u001b[1;33m\u001b[0m\u001b[0m\n\u001b[0;32m     22\u001b[0m     \u001b[1;32mreturn\u001b[0m \u001b[0mx\u001b[0m\u001b[1;33m[\u001b[0m\u001b[1;33m-\u001b[0m\u001b[1;36m1\u001b[0m\u001b[1;33m]\u001b[0m\u001b[1;33m\u001b[0m\u001b[0m\n",
      "\u001b[1;31mKeyboardInterrupt\u001b[0m: "
     ]
    }
   ],
   "source": [
    "y = OGMG_count(np.zeros(15), L, mu*10000, grad_Nesterov, 0.00001)\n",
    "print(y)\n",
    "print(norm(grad_Nesterov(y[1])))"
   ]
  },
  {
   "cell_type": "code",
   "execution_count": null,
   "metadata": {},
   "outputs": [],
   "source": [
    "y = OGMG_adapt(np.zeros(15), L, mu*10000, grad_Nesterov, 0.00001)\n",
    "print(y)\n",
    "print(norm(grad_Nesterov(y[1])))"
   ]
  },
  {
   "cell_type": "code",
   "execution_count": 54,
   "metadata": {},
   "outputs": [
    {
     "name": "stdout",
     "output_type": "stream",
     "text": [
      "0 0\n",
      "0 1\n",
      "0 2\n",
      "0 3\n",
      "0 4\n",
      "0 5\n",
      "0 6\n",
      "0 7\n",
      "0 8\n",
      "0 9\n",
      "1 0\n",
      "1 1\n",
      "1 2\n",
      "1 3\n",
      "1 4\n",
      "1 5\n",
      "1 6\n",
      "1 7\n",
      "1 8\n",
      "1 9\n",
      "2 0\n",
      "2 1\n",
      "2 2\n",
      "2 3\n",
      "2 4\n",
      "2 5\n",
      "2 6\n",
      "2 7\n",
      "2 8\n",
      "2 9\n",
      "3 0\n",
      "3 1\n",
      "3 2\n",
      "3 3\n",
      "3 4\n",
      "3 5\n",
      "3 6\n",
      "3 7\n",
      "3 8\n",
      "3 9\n",
      "4 0\n",
      "4 1\n",
      "4 2\n",
      "4 3\n",
      "4 4\n",
      "4 5\n",
      "4 6\n",
      "4 7\n",
      "4 8\n",
      "4 9\n",
      "5 0\n",
      "5 1\n",
      "5 2\n",
      "5 3\n",
      "5 4\n",
      "5 5\n",
      "5 6\n",
      "5 7\n",
      "5 8\n",
      "5 9\n",
      "6 0\n",
      "6 1\n",
      "6 2\n",
      "6 3\n",
      "6 4\n",
      "6 5\n",
      "6 6\n",
      "6 7\n",
      "6 8\n",
      "6 9\n",
      "7 0\n",
      "7 1\n",
      "7 2\n",
      "7 3\n",
      "7 4\n",
      "7 5\n",
      "7 6\n",
      "7 7\n",
      "7 8\n",
      "7 9\n",
      "8 0\n",
      "8 1\n",
      "8 2\n",
      "8 3\n",
      "8 4\n",
      "8 5\n",
      "8 6\n",
      "8 7\n",
      "8 8\n",
      "8 9\n",
      "9 0\n",
      "9 1\n",
      "9 2\n",
      "9 3\n",
      "9 4\n",
      "9 5\n",
      "9 6\n",
      "9 7\n",
      "9 8\n",
      "9 9\n",
      "10 0\n",
      "10 1\n",
      "10 2\n",
      "10 3\n",
      "10 4\n",
      "10 5\n",
      "10 6\n",
      "10 7\n",
      "10 8\n",
      "10 9\n",
      "11 0\n",
      "11 1\n",
      "11 2\n",
      "11 3\n",
      "11 4\n",
      "11 5\n",
      "11 6\n",
      "11 7\n",
      "11 8\n",
      "11 9\n"
     ]
    }
   ],
   "source": [
    "MU = 10.0**(np.arange(0,12)-2)\n",
    "GF_E = np.arange(1,11)\n",
    "simple = np.zeros((12,10))\n",
    "adapt = np.zeros((12,10))\n",
    "for i in range(0, 12):\n",
    "    for j in range(0, 10):\n",
    "        simple[i][j] = OGMG_count(x0, L, MU[i], g, norm(g(x0))/(10**GF_E[j]))[0]\n",
    "        adapt[i][j] = OGMG_adapt(x0, L, MU[i], g, norm(g(x0))/(10**GF_E[j]))[0]\n",
    "        print(i,j)"
   ]
  },
  {
   "cell_type": "code",
   "execution_count": 55,
   "metadata": {},
   "outputs": [
    {
     "name": "stdout",
     "output_type": "stream",
     "text": [
      "[[ 1.41  1.41  1.66  1.66  1.66  1.92  1.92  1.66  2.21  2.21]\n",
      " [ 1.42  1.42  1.65  1.65  1.92  1.92  1.65  2.01  1.89  1.89]\n",
      " [ 1.41  1.65  1.65  1.91  1.65  1.05  0.79  0.8   0.67  0.67]\n",
      " [ 1.45  1.66  1.93  1.32  0.98  1.32  1.37  1.48  1.52  1.56]\n",
      " [ 0.75  1.69  1.09  0.97  2.15  2.98  3.16  3.27  3.33  3.43]\n",
      " [ 1.5   1.2   1.18  1.59  3.51  5.38  6.43  7.11  7.58  7.82]\n",
      " [ 1.    1.    1.62  2.67  5.85  7.76  8.36  9.48  9.75  9.34]\n",
      " [ 1.    1.    1.3   2.52  5.77  7.    7.48  8.31  8.73  8.62]\n",
      " [ 1.    0.92  1.3   2.29  5.14  7.7   9.1   9.97 10.58 10.9 ]\n",
      " [ 1.    1.    1.33  2.46  5.67  7.62  8.25  9.38  9.66  9.26]\n",
      " [ 1.    1.    1.3   2.36  5.12  7.12  7.57  8.39  8.8   8.69]\n",
      " [ 1.    1.    1.27  2.46  4.66  6.41  7.24  7.73  7.77  7.64]]\n"
     ]
    }
   ],
   "source": [
    "np.set_printoptions(precision=2)\n",
    "print(simple/adapt)"
   ]
  },
  {
   "cell_type": "code",
   "execution_count": 58,
   "metadata": {},
   "outputs": [
    {
     "name": "stdout",
     "output_type": "stream",
     "text": [
      "[[ 633.  633. 1081. 1081. 1081. 1398. 1398. 1622. 1622. 1622.]\n",
      " [ 200.  200.  342.  342.  442.  442.  513.  563.  599.  599.]\n",
      " [  64.  109.  109.  141.  164.  344.  453.  562.  671.  671.]\n",
      " [  20.   35.   45.   66.  237.  374.  528.  665.  819.  819.]\n",
      " [  12.   16.   33.   93.  260.  398.  572.  746.  920.  920.]\n",
      " [   4.   10.   33.  104.  285.  395.  505.  615.  725.  725.]\n",
      " [   4.   11.   32.   84.  233.  373.  530.  629.  769.  827.]\n",
      " [   4.   11.   40.   89.  236.  414.  592.  718.  859.  896.]\n",
      " [   4.   12.   40.   98.  265.  376.  487.  598.  709.  709.]\n",
      " [   4.   11.   39.   91.  240.  380.  537.  636.  776.  834.]\n",
      " [   4.   11.   40.   95.  266.  407.  585.  711.  852.  889.]\n",
      " [   4.   11.   41.   91.  292.  452.  612.  772.  965. 1012.]]\n"
     ]
    }
   ],
   "source": [
    "print(adapt)"
   ]
  },
  {
   "cell_type": "code",
   "execution_count": 17,
   "metadata": {},
   "outputs": [
    {
     "data": {
      "image/png": "[encoded data removed]",
      "text/plain": [
       "<Figure size 432x288 with 1 Axes>"
      ]
     },
     "metadata": {},
     "output_type": "display_data"
    }
   ],
   "source": [
    "import matplotlib.pylab as plt\n",
    "%matplotlib inline\n",
    "\n",
    "i = 4\n",
    "\n",
    "for k in range(0, 10):\n",
    "    plt.scatter(GF_E[k], simple[i][k], lw=2, color = 'green')#, alpha = 1)\n",
    "    plt.scatter(GF_E[k], adapt[i][k], lw=2, color = 'blue')#, alpha = 1)\n",
    "    plt.xlabel(r'$lg\\dfrac{||\\nabla f({\\bf x}_0)||}{\\varepsilon}$')\n",
    "    plt.ylabel('N')"
   ]
  },
  {
   "cell_type": "code",
   "execution_count": null,
   "metadata": {},
   "outputs": [],
   "source": []
  },
  {
   "cell_type": "code",
   "execution_count": null,
   "metadata": {},
   "outputs": [],
   "source": []
  },
  {
   "cell_type": "code",
   "execution_count": 147,
   "metadata": {},
   "outputs": [
    {
     "data": {
      "text/plain": [
       "array([ 1,  2,  3,  4,  5,  6,  7,  8,  9, 10])"
      ]
     },
     "execution_count": 147,
     "metadata": {},
     "output_type": "execute_result"
    }
   ],
   "source": [
    "x0"
   ]
  },
  {
   "cell_type": "code",
   "execution_count": null,
   "metadata": {},
   "outputs": [],
   "source": []
  },
  {
   "cell_type": "code",
   "execution_count": 21,
   "metadata": {},
   "outputs": [
    {
     "data": {
      "text/plain": [
       "333833500.0"
      ]
     },
     "execution_count": 21,
     "metadata": {},
     "output_type": "execute_result"
    }
   ],
   "source": [
    "A = np.diag(np.arange(1,1001)**2)\n",
    "np.dot(x0, np.dot(A, x0))"
   ]
  },
  {
   "cell_type": "code",
   "execution_count": 154,
   "metadata": {},
   "outputs": [
    {
     "name": "stdout",
     "output_type": "stream",
     "text": [
      "0.5 100\n",
      "10 46957359.11201222\n",
      "11 196194871.76306945\n",
      "12 819607812.894055\n",
      "13 3423399017.4685745\n",
      "14 14296852645.55637\n",
      "15 59697107625.39193\n",
      "16 249226636238.02267\n",
      "17 1040308798359.2598\n",
      "18 4341651991191.467\n",
      "19 18116357409538.3\n",
      "20 75580198830901.36\n",
      "21 315256853974949.75\n",
      "22 1314735556469444.5\n",
      "23 5481855393313579.0\n",
      "24 2.2852298595920736e+16\n",
      "25 9.52452055699115e+16\n",
      "26 3.968852492576126e+17\n",
      "27 1.6534573039173284e+18\n",
      "28 6.886914608684378e+18\n",
      "29 2.8678569859519468e+19\n",
      "30 1.1939568886676932e+20\n",
      "31 4.969530215070681e+20\n",
      "32 2.0679241773538953e+21\n"
     ]
    },
    {
     "data": {
      "image/png": "[encoded data removed]",
      "text/plain": [
       "<Figure size 432x288 with 1 Axes>"
      ]
     },
     "metadata": {},
     "output_type": "display_data"
    }
   ],
   "source": [
    "import matplotlib.pylab as plt\n",
    "%matplotlib inline\n",
    "\n",
    "\n",
    "#_, ax = plt.subplots()\n",
    "print(Ls[0], Ns[0])\n",
    "N = results[0][0][0]\n",
    "for k in range(int(N/10), int(N/3)):\n",
    "    print(k, results[0][0][1][k])\n",
    "    plt.scatter(k, results[0][0][1][k], lw=3, color = '#539caf', alpha = 1)\n",
    "\n"
   ]
  },
  {
   "cell_type": "code",
   "execution_count": null,
   "metadata": {},
   "outputs": [],
   "source": []
  },
  {
   "cell_type": "code",
   "execution_count": 85,
   "metadata": {},
   "outputs": [
    {
     "data": {
      "text/plain": [
       "array([[1., 0., 0., 0., 0.],\n",
       "       [0., 1., 0., 0., 0.],\n",
       "       [0., 0., 1., 0., 0.],\n",
       "       [0., 0., 0., 1., 0.],\n",
       "       [0., 0., 0., 0., 1.]])"
      ]
     },
     "execution_count": 85,
     "metadata": {},
     "output_type": "execute_result"
    }
   ],
   "source": [
    "np.eye(5)"
   ]
  },
  {
   "cell_type": "code",
   "execution_count": null,
   "metadata": {},
   "outputs": [],
   "source": []
  }
 ],
 "metadata": {
  "kernelspec": {
   "display_name": "Python 3",
   "language": "python",
   "name": "python3"
  },
  "language_info": {
   "codemirror_mode": {
    "name": "ipython",
    "version": 3
   },
   "file_extension": ".py",
   "mimetype": "text/x-python",
   "name": "python",
   "nbconvert_exporter": "python",
   "pygments_lexer": "ipython3",
   "version": "3.6.5"
  }
 },
 "nbformat": 4,
 "nbformat_minor": 2
}
